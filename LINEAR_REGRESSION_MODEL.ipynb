{
  "nbformat": 4,
  "nbformat_minor": 0,
  "metadata": {
    "colab": {
      "provenance": [],
      "authorship_tag": "ABX9TyNq3oa9VVd77u9qc0mCiPmh",
      "include_colab_link": true
    },
    "kernelspec": {
      "name": "python3",
      "display_name": "Python 3"
    },
    "language_info": {
      "name": "python"
    }
  },
  "cells": [
    {
      "cell_type": "markdown",
      "metadata": {
        "id": "view-in-github",
        "colab_type": "text"
      },
      "source": [
        "<a href=\"https://colab.research.google.com/github/DuaaMohdAli/Linear_Regression/blob/main/LINEAR_REGRESSION_MODEL.ipynb\" target=\"_parent\"><img src=\"https://colab.research.google.com/assets/colab-badge.svg\" alt=\"Open In Colab\"/></a>"
      ]
    },
    {
      "cell_type": "code",
      "execution_count": 1,
      "metadata": {
        "id": "X99QgCT9it7I"
      },
      "outputs": [],
      "source": [
        "import numpy as np"
      ]
    },
    {
      "cell_type": "code",
      "source": [
        "class Linear_Regression() :\n",
        "\n",
        "  def __init__(self , Learning_Rate , No_Of_Iterations ):\n",
        "    self.Learning_Rate = Learning_Rate\n",
        "    self.No_Of_Iterations = No_Of_Iterations\n",
        "\n",
        "\n",
        "\n",
        "  def fit(self , X , Y ) :\n",
        "    # X = Features and Y = Target\n",
        "    # m = Training Examples  , which is the no of rows\n",
        "    # n = No of Features  , which is the no of columns\n",
        "\n",
        "\n",
        "    self.m , self.n = X.shape\n",
        "\n",
        "    self.w = np.zeros(self.n)\n",
        "    self.b = 0\n",
        "\n",
        "\n",
        "\n",
        "  def update_weights(self , ) :\n",
        "\n",
        "\n",
        "  def predict(self , ) :\n",
        "\n",
        "\n",
        "\n",
        "\n",
        "\n",
        ""
      ],
      "metadata": {
        "id": "0R9h5zcSeAho"
      },
      "execution_count": null,
      "outputs": []
    }
  ]
}