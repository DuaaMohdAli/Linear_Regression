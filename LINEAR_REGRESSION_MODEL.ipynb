{
  "nbformat": 4,
  "nbformat_minor": 0,
  "metadata": {
    "colab": {
      "provenance": [],
      "authorship_tag": "ABX9TyNkrip9gAQv5eer5dtyi2xy",
      "include_colab_link": true
    },
    "kernelspec": {
      "name": "python3",
      "display_name": "Python 3"
    },
    "language_info": {
      "name": "python"
    }
  },
  "cells": [
    {
      "cell_type": "markdown",
      "metadata": {
        "id": "view-in-github",
        "colab_type": "text"
      },
      "source": [
        "<a href=\"https://colab.research.google.com/github/DuaaMohdAli/Linear_Regression/blob/main/LINEAR_REGRESSION_MODEL.ipynb\" target=\"_parent\"><img src=\"https://colab.research.google.com/assets/colab-badge.svg\" alt=\"Open In Colab\"/></a>"
      ]
    },
    {
      "cell_type": "code",
      "execution_count": 2,
      "metadata": {
        "id": "X99QgCT9it7I"
      },
      "outputs": [],
      "source": [
        "import numpy as np"
      ]
    },
    {
      "cell_type": "code",
      "source": [
        "class Linear_Regression() :\n",
        "\n",
        "  def __init__(self , Learning_Rate , No_Of_Iterations ):\n",
        "    self.Learning_Rate = Learning_Rate\n",
        "    self.No_Of_Iterations = No_Of_Iterations\n",
        "\n",
        "\n",
        "\n",
        "  def fit(self , X , Y ) :\n",
        "    # X = Features and Y = Target\n",
        "    # m = Training Examples  , which is the no of rows\n",
        "    # n = No of Features  , which is the no of columns\n",
        "\n",
        "\n",
        "    self.m , self.n = X.shape\n",
        "\n",
        "    self.w = np.zeros(self.n)\n",
        "    self.b = 0\n",
        "    self.X = X\n",
        "    self.Y = Y\n",
        "\n",
        "\n",
        "    # implementing Gradient Descent\n",
        "\n",
        "    for i in range (self.No_Of_Iterations):\n",
        "      self.update_weights()\n",
        "\n",
        "\n",
        "\n",
        "  def update_weights(self ) :\n",
        "\n",
        "    Y_Prediction = self.predict(self.X)\n",
        "\n",
        "    # calculate Gradients\n",
        "\n",
        "    dw = - (2 * (self.X.T).dot(self.Y - Y_Prediction)) / self.m\n",
        "\n",
        "    db = - 2 * np.sum(self.Y - Y_Prediction) / self.m\n",
        "\n",
        "\n",
        "    # Updating the weight\n",
        "\n",
        "    self.w = self.w - self.Learning_Rate * dw\n",
        "    self.b =  self.b - self.Learning_Rate * db\n",
        "\n",
        "\n",
        "\n",
        "  def predict(self , X ) :\n",
        "\n",
        "    return X.dot(self.w) + self.b\n",
        "\n",
        "\n",
        "\n",
        "\n",
        "\n"
      ],
      "metadata": {
        "id": "0R9h5zcSeAho"
      },
      "execution_count": 1,
      "outputs": []
    }
  ]
}