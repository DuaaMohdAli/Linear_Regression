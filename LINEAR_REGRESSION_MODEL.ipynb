{
  "nbformat": 4,
  "nbformat_minor": 0,
  "metadata": {
    "colab": {
      "provenance": [],
      "authorship_tag": "ABX9TyOxFoRblqtpmJCZQAcc4ek9",
      "include_colab_link": true
    },
    "kernelspec": {
      "name": "python3",
      "display_name": "Python 3"
    },
    "language_info": {
      "name": "python"
    }
  },
  "cells": [
    {
      "cell_type": "markdown",
      "metadata": {
        "id": "view-in-github",
        "colab_type": "text"
      },
      "source": [
        "<a href=\"https://colab.research.google.com/github/DuaaMohdAli/Linear_Regression/blob/main/LINEAR_REGRESSION_MODEL.ipynb\" target=\"_parent\"><img src=\"https://colab.research.google.com/assets/colab-badge.svg\" alt=\"Open In Colab\"/></a>"
      ]
    },
    {
      "cell_type": "code",
      "execution_count": 1,
      "metadata": {
        "id": "X99QgCT9it7I"
      },
      "outputs": [],
      "source": [
        "import numpy as np"
      ]
    },
    {
      "cell_type": "code",
      "source": [
        "class Linear_Regression() :\n",
        "\n",
        "  def __init__(self , Learning_Rate , No_Of_Iterations ):\n",
        "    self.Learning_Rate = Learning_Rate\n",
        "    self.No_Of_Iterations = No_Of_Iterations\n",
        "\n",
        "\n",
        "\n",
        "  def fit(self , X , Y ) :\n",
        "    # X = Features and Y = Target\n",
        "    # Training example and Number Of Features\n",
        "    # m = Training Examples\n",
        "    # n = No of Features\n",
        "\n",
        "\n",
        "\n",
        "\n",
        "  def update_weights(self ,) :\n",
        "\n",
        "\n",
        "  def predict(self , ) :\n",
        "\n",
        "\n",
        "\n",
        "\n",
        "\n",
        ""
      ],
      "metadata": {
        "id": "0R9h5zcSeAho"
      },
      "execution_count": null,
      "outputs": []
    }
  ]
}